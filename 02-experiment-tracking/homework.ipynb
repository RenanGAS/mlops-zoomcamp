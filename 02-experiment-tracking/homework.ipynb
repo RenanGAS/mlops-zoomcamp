{
 "cells": [
  {
   "cell_type": "code",
   "execution_count": null,
   "id": "ceb628e4",
   "metadata": {},
   "outputs": [
    {
     "name": "stdout",
     "output_type": "stream",
     "text": [
      "mlflow, version 2.22.0\n"
     ]
    }
   ],
   "source": [
    "import mlflow\n",
    "### Q1. Install MLflow\n",
    "!mlflow --version\n",
    "\n",
    "### Q2. Download and preprocess the data\n",
    "#### 4 files in ./output"
   ]
  },
  {
   "cell_type": "code",
   "execution_count": 2,
   "id": "5e05e87e",
   "metadata": {},
   "outputs": [
    {
     "name": "stderr",
     "output_type": "stream",
     "text": [
      "2025/05/25 03:41:23 INFO mlflow.tracking.fluent: Experiment with name 'homework_2' does not exist. Creating a new experiment.\n"
     ]
    },
    {
     "data": {
      "text/plain": [
       "<Experiment: artifact_location='/workspaces/mlops-zoomcamp/02-experiment-tracking/mlruns/1', creation_time=1748144483894, experiment_id='1', last_update_time=1748144483894, lifecycle_stage='active', name='homework_2', tags={}>"
      ]
     },
     "execution_count": 2,
     "metadata": {},
     "output_type": "execute_result"
    }
   ],
   "source": [
    "### Q3. Train a model with autolog\n",
    "import mlflow\n",
    "mlflow.set_tracking_uri(\"sqlite:///mlflow.db\")\n",
    "mlflow.set_experiment(\"homework_2\")"
   ]
  },
  {
   "cell_type": "code",
   "execution_count": 12,
   "id": "754b20a9",
   "metadata": {},
   "outputs": [],
   "source": [
    "# train.py\n",
    "import os\n",
    "import pickle\n",
    "\n",
    "from sklearn.ensemble import RandomForestRegressor\n",
    "from sklearn.metrics import root_mean_squared_error\n",
    "\n",
    "\n",
    "def load_pickle(filename: str):\n",
    "    with open(filename, \"rb\") as f_in:\n",
    "        return pickle.load(f_in)\n",
    "\n",
    "\n",
    "def run_train(data_path: str):\n",
    "    with mlflow.start_run():\n",
    "        mlflow.set_tag(\"Developer\", \"RenanGAS\")\n",
    "\n",
    "        mlflow.log_params({\n",
    "            \"train_data_path\": \"./data/train.pkl\",\n",
    "            \"val_data_path\": \"./data/val.pkl\"\n",
    "        })\n",
    "        X_train, y_train = load_pickle(os.path.join(data_path, \"train.pkl\"))\n",
    "        X_val, y_val = load_pickle(os.path.join(data_path, \"val.pkl\"))\n",
    "\n",
    "        rf = RandomForestRegressor(max_depth=10, random_state=0)\n",
    "        mlflow.log_params(rf.get_params())\n",
    "\n",
    "        rf.fit(X_train, y_train)\n",
    "        y_pred = rf.predict(X_val)\n",
    "\n",
    "        rmse = root_mean_squared_error(y_val, y_pred)\n",
    "        mlflow.log_metric(\"RMSE\", rmse)\n",
    "\n",
    "run_train(\"./output\")"
   ]
  }
 ],
 "metadata": {
  "kernelspec": {
   "display_name": "homework_2",
   "language": "python",
   "name": "python3"
  },
  "language_info": {
   "codemirror_mode": {
    "name": "ipython",
    "version": 3
   },
   "file_extension": ".py",
   "mimetype": "text/x-python",
   "name": "python",
   "nbconvert_exporter": "python",
   "pygments_lexer": "ipython3",
   "version": "3.9.21"
  }
 },
 "nbformat": 4,
 "nbformat_minor": 5
}
